{
  "cells": [
    {
      "cell_type": "markdown",
      "metadata": {
        "id": "view-in-github",
        "colab_type": "text"
      },
      "source": [
        "<a href=\"https://colab.research.google.com/github/dogepeng/aquaponics/blob/main/Aquaponics.ipynb\" target=\"_parent\"><img src=\"https://colab.research.google.com/assets/colab-badge.svg\" alt=\"Open In Colab\"/></a>"
      ]
    },
    {
      "cell_type": "markdown",
      "metadata": {
        "id": "HjZbSGaHfQZT"
      },
      "source": [
        "Cheat Sheet for 2023-2024 Aquaponics Research Machine Learning"
      ]
    },
    {
      "cell_type": "code",
      "execution_count": null,
      "metadata": {
        "colab": {
          "base_uri": "https://localhost:8080/",
          "height": 36
        },
        "id": "H72E4QYTeTHU",
        "outputId": "f28288de-c594-4e75-affc-3fa8a1d98451",
        "collapsed": true
      },
      "outputs": [
        {
          "output_type": "execute_result",
          "data": {
            "text/plain": [
              "'cpu'"
            ],
            "application/vnd.google.colaboratory.intrinsic+json": {
              "type": "string"
            }
          },
          "metadata": {},
          "execution_count": 9
        }
      ],
      "source": [
        "#IMPORTS\n",
        "\n",
        "import urllib #Used to get data from Google Sheet\n",
        "import torch #Standard pytorch libraries\n",
        "from torch import nn\n",
        "from torch.utils.data import DataLoader\n",
        "import numpy as np\n",
        "import random\n",
        "\n",
        "device = (\"cuda\" if torch.cuda.is_available() else \"cpu\")\n",
        "device"
      ]
    },
    {
      "cell_type": "code",
      "execution_count": null,
      "metadata": {
        "colab": {
          "base_uri": "https://localhost:8080/",
          "height": 522
        },
        "id": "pWSlHYQUgIdY",
        "outputId": "3efd2e85-7148-4800-ce19-55149d4681e2",
        "collapsed": true
      },
      "outputs": [
        {
          "output_type": "stream",
          "name": "stdout",
          "text": [
            "X TRAIN: torch.Size([800, 6])\n",
            "X TEST: torch.Size([200, 6])\n",
            "Y TRAIN: torch.Size([800, 1])\n",
            "Y TEST: torch.Size([200, 1])\n"
          ]
        },
        {
          "output_type": "execute_result",
          "data": {
            "text/plain": [
              "<matplotlib.collections.PathCollection at 0x7888522ad030>"
            ]
          },
          "metadata": {},
          "execution_count": 28
        },
        {
          "output_type": "display_data",
          "data": {
            "text/plain": [
              "<Figure size 640x480 with 1 Axes>"
            ],
            "image/png": "[encoded data removed]"
          },
          "metadata": {}
        }
      ],
      "source": [
        "#Pretend training data\n",
        "\n",
        "import pandas\n",
        "#morphometric_pred_data = pandas.read_csv('PretendShrimpDataPredMorph.csv') #TAGGED IMAGES\n",
        "mass_pred_data = pandas.DataFrame(pandas.read_csv(urllib.request.urlopen(\"https://docs.google.com/spreadsheets/d/1fQ15_NWog8nHX8xlgX7efpMt83GuMLzDaH1mSWfeavs/export?format=csv\"))).T[1:] #MEASUREMENTS\n",
        "\n",
        "mass_pred_data_x_train = torch.tensor(np.array(mass_pred_data[:-1].T.head(800),dtype=np.float32))\n",
        "mass_pred_data_x_test = torch.tensor(np.array(mass_pred_data[:-1].T.tail(200),dtype=np.float32))\n",
        "\n",
        "mass_pred_data_y_train = torch.tensor(np.array(mass_pred_data[6:].T.head(800),dtype=np.float32))\n",
        "mass_pred_data_y_test = torch.tensor(np.array(mass_pred_data[6:].T.tail(200),dtype=np.float32))\n",
        "\n",
        "#Check that the data is in the right dimensions\n",
        "print(f\"X TRAIN: {mass_pred_data_x_train.size()}\")\n",
        "print(f\"X TEST: {mass_pred_data_x_test.size()}\")\n",
        "print(f\"Y TRAIN: {mass_pred_data_y_train.size()}\")\n",
        "print(f\"Y TEST: {mass_pred_data_y_test.size()}\")\n",
        "\n",
        "import matplotlib.pyplot as plt\n",
        "\n",
        "\n",
        "plt.scatter(mass_pred_data_x_train.T[:1].T,mass_pred_data_y_train)\n"
      ]
    },
    {
      "cell_type": "code",
      "execution_count": null,
      "metadata": {
        "id": "aGeoJ0UIfgmN"
      },
      "outputs": [],
      "source": [
        "#DEFINING THE MODEL\n",
        "class MassPredNeuralNetwork(nn.Module):\n",
        "  def __init__(self, inputs, outputs):\n",
        "    super().__init__()\n",
        "    self.predict = torch.nn.Linear(inputs,outputs)\n",
        "    # self.predict = torch.nn.Linear(inputs, outputs)\n",
        "    self.device = torch.device(device)\n",
        "  #FORWARD\n",
        "  def forward(self, x):\n",
        "    mass_pred = self.predict(x)\n",
        "    return mass_pred\n"
      ]
    },
    {
      "cell_type": "code",
      "execution_count": null,
      "metadata": {
        "id": "wy5Ca-IQI0dn"
      },
      "outputs": [],
      "source": [
        "#CREATING THE TRAINING LOOP\n",
        "def train(model, data_x, data_y, loss_fn, optimizer, epochs):\n",
        "  #Set model to training mode\n",
        "  model.train()\n",
        "  #TRAINING\n",
        "  for i in range(epochs):\n",
        "    for (a,b) in enumerate(data_y):\n",
        "\n",
        "      #Predict error (MEAN SQUARED ERROR BECAUSE REGRESSION)\n",
        "      x,y = data_x[a].to(device), b.to(device)\n",
        "      pred = model(x)\n",
        "      loss = loss_fn(pred, y)\n",
        "      diff = abs(pred-y)/y\n",
        "\n",
        "      #Backpropagation\n",
        "      optimizer.zero_grad()\n",
        "      torch.set_grad_enabled(True)\n",
        "      loss.backward()\n",
        "      optimizer.step()\n",
        "\n",
        "\n"
      ]
    },
    {
      "cell_type": "code",
      "execution_count": null,
      "metadata": {
        "id": "o9Xsy7AVMIuA"
      },
      "outputs": [],
      "source": [
        "#CREATING THE TESTING LOOP\n",
        "def test(model, data_x, data_y, loss_fn):\n",
        "  model.eval()\n",
        "  total_loss, correct, big_correct, big_wrong, medium_wrong = 0, 0, 0, 0, 0 #Big correct means within 0.001 of the actual value, Big wrong means further than 10% from the value\n",
        "  with torch.no_grad():\n",
        "    for (x,y) in enumerate(data_y):\n",
        "      x,y = data_x[x].to(device), y.to(device)\n",
        "      prediction = model(x)\n",
        "      loss = loss_fn(prediction, y).item()\n",
        "\n",
        "      # Customized loss\n",
        "      diff = abs(prediction-y)/y\n",
        "      if diff > 0.1:\n",
        "        big_wrong += 1\n",
        "      #   loss += 1.2\n",
        "      elif diff > 0.05 and diff <0.1:\n",
        "        medium_wrong += 1\n",
        "      #   loss += 0.2\n",
        "      elif diff <= 0.05:\n",
        "        correct += 1\n",
        "      elif diff <= 0.01:\n",
        "        big_correct += 1\n",
        "      #   loss -= 0.9\n",
        "\n",
        "      total_loss += loss\n",
        "\n",
        "  average_loss = total_loss/len(data_y)\n",
        "  print(f\"Total Loss: {total_loss}\")\n",
        "\n",
        "  #RESULTS\n",
        "  print(f\"RESULTS: Number correct: {correct}, Percentage correct: {100*correct/len(data_y)}%, Average loss: {average_loss}, Big wrong: {big_wrong}, Medium wrong: {medium_wrong}\")"
      ]
    },
    {
      "cell_type": "code",
      "execution_count": null,
      "metadata": {
        "colab": {
          "base_uri": "https://localhost:8080/"
        },
        "id": "f9wZsqZwOi9m",
        "outputId": "e234c774-8a83-4301-f8f3-d91d60a399e4",
        "collapsed": true
      },
      "outputs": [
        {
          "output_type": "stream",
          "name": "stdout",
          "text": [
            "Epoch: 1\n",
            "Total Loss: 1396.8371953964233\n",
            "RESULTS: Number correct: 0, Percentage correct: 0.0%, Average loss: 6.984185976982117, Big wrong: 200, Medium wrong: 0\n",
            "------------------------------------------------------------------------------\n",
            "Epoch: 2\n",
            "Total Loss: 1395.686107158661\n",
            "RESULTS: Number correct: 0, Percentage correct: 0.0%, Average loss: 6.978430535793304, Big wrong: 200, Medium wrong: 0\n",
            "------------------------------------------------------------------------------\n",
            "Epoch: 3\n",
            "Total Loss: 1394.535674571991\n",
            "RESULTS: Number correct: 0, Percentage correct: 0.0%, Average loss: 6.972678372859955, Big wrong: 200, Medium wrong: 0\n",
            "------------------------------------------------------------------------------\n",
            "Epoch: 4\n",
            "Total Loss: 1393.3864340782166\n",
            "RESULTS: Number correct: 0, Percentage correct: 0.0%, Average loss: 6.9669321703910825, Big wrong: 200, Medium wrong: 0\n",
            "------------------------------------------------------------------------------\n",
            "Epoch: 5\n",
            "Total Loss: 1392.2381329536438\n",
            "RESULTS: Number correct: 0, Percentage correct: 0.0%, Average loss: 6.961190664768219, Big wrong: 200, Medium wrong: 0\n",
            "------------------------------------------------------------------------------\n",
            "Epoch: 6\n",
            "Total Loss: 1391.0905227661133\n",
            "RESULTS: Number correct: 0, Percentage correct: 0.0%, Average loss: 6.955452613830566, Big wrong: 200, Medium wrong: 0\n",
            "------------------------------------------------------------------------------\n",
            "Epoch: 7\n",
            "Total Loss: 1389.9437408447266\n",
            "RESULTS: Number correct: 0, Percentage correct: 0.0%, Average loss: 6.949718704223633, Big wrong: 200, Medium wrong: 0\n",
            "------------------------------------------------------------------------------\n",
            "Epoch: 8\n",
            "Total Loss: 1388.7975478172302\n",
            "RESULTS: Number correct: 0, Percentage correct: 0.0%, Average loss: 6.943987739086151, Big wrong: 200, Medium wrong: 0\n",
            "------------------------------------------------------------------------------\n",
            "Epoch: 9\n",
            "Total Loss: 1387.6522870063782\n",
            "RESULTS: Number correct: 0, Percentage correct: 0.0%, Average loss: 6.938261435031891, Big wrong: 200, Medium wrong: 0\n",
            "------------------------------------------------------------------------------\n",
            "Epoch: 10\n",
            "Total Loss: 1386.5076756477356\n",
            "RESULTS: Number correct: 0, Percentage correct: 0.0%, Average loss: 6.932538378238678, Big wrong: 200, Medium wrong: 0\n",
            "------------------------------------------------------------------------------\n",
            "Epoch: 11\n",
            "Total Loss: 1385.3643054962158\n",
            "RESULTS: Number correct: 0, Percentage correct: 0.0%, Average loss: 6.926821527481079, Big wrong: 200, Medium wrong: 0\n",
            "------------------------------------------------------------------------------\n",
            "Epoch: 12\n",
            "Total Loss: 1384.2220711708069\n",
            "RESULTS: Number correct: 0, Percentage correct: 0.0%, Average loss: 6.921110355854035, Big wrong: 200, Medium wrong: 0\n",
            "------------------------------------------------------------------------------\n",
            "Epoch: 13\n",
            "Total Loss: 1383.0811491012573\n",
            "RESULTS: Number correct: 0, Percentage correct: 0.0%, Average loss: 6.915405745506287, Big wrong: 200, Medium wrong: 0\n",
            "------------------------------------------------------------------------------\n",
            "Epoch: 14\n",
            "Total Loss: 1381.9411511421204\n",
            "RESULTS: Number correct: 0, Percentage correct: 0.0%, Average loss: 6.909705755710601, Big wrong: 200, Medium wrong: 0\n",
            "------------------------------------------------------------------------------\n",
            "Epoch: 15\n",
            "Total Loss: 1380.8022742271423\n",
            "RESULTS: Number correct: 0, Percentage correct: 0.0%, Average loss: 6.904011371135712, Big wrong: 200, Medium wrong: 0\n",
            "------------------------------------------------------------------------------\n",
            "Epoch: 16\n",
            "Total Loss: 1379.6642398834229\n",
            "RESULTS: Number correct: 0, Percentage correct: 0.0%, Average loss: 6.898321199417114, Big wrong: 200, Medium wrong: 0\n",
            "------------------------------------------------------------------------------\n",
            "Epoch: 17\n",
            "Total Loss: 1378.5271482467651\n",
            "RESULTS: Number correct: 0, Percentage correct: 0.0%, Average loss: 6.892635741233826, Big wrong: 200, Medium wrong: 0\n",
            "------------------------------------------------------------------------------\n",
            "Epoch: 18\n",
            "Total Loss: 1377.3908343315125\n",
            "RESULTS: Number correct: 0, Percentage correct: 0.0%, Average loss: 6.886954171657562, Big wrong: 200, Medium wrong: 0\n",
            "------------------------------------------------------------------------------\n",
            "Epoch: 19\n",
            "Total Loss: 1376.25519657135\n",
            "RESULTS: Number correct: 0, Percentage correct: 0.0%, Average loss: 6.88127598285675, Big wrong: 200, Medium wrong: 0\n",
            "------------------------------------------------------------------------------\n",
            "Epoch: 20\n",
            "Total Loss: 1375.1202845573425\n",
            "RESULTS: Number correct: 0, Percentage correct: 0.0%, Average loss: 6.875601422786713, Big wrong: 200, Medium wrong: 0\n",
            "------------------------------------------------------------------------------\n"
          ]
        }
      ],
      "source": [
        "#TRAINING AND TESTING\n",
        "from torch.nn import MSELoss, L1Loss\n",
        "loss_fn = L1Loss()\n",
        "model = MassPredNeuralNetwork(6,1).to(device)\n",
        "optim = torch.optim.SGD(model.parameters(), lr = 0.0000000033)\n",
        "\n",
        "epochs = 20\n",
        "for i in range(epochs):\n",
        "  print(f\"Epoch: {i+1}\")\n",
        "  train(model, mass_pred_data_x_train, mass_pred_data_y_train, MSELoss(), optim, 5) #TODO BATCHING\n",
        "  test(model, mass_pred_data_x_test, mass_pred_data_y_test, loss_fn)\n",
        "  print(\"------------------------------------------------------------------------------\")"
      ]
    },
    {
      "cell_type": "code",
      "execution_count": null,
      "metadata": {
        "colab": {
          "base_uri": "https://localhost:8080/"
        },
        "id": "OQe6tY4ve1wE",
        "outputId": "168d5db6-9bb5-4db2-eac4-3a13467b1a45",
        "collapsed": true
      },
      "outputs": [
        {
          "output_type": "stream",
          "name": "stdout",
          "text": [
            "Average error: 23.87%\n",
            "Average error: 23.565%\n"
          ]
        }
      ],
      "source": [
        "#TESTING MODEL\n",
        "import random\n",
        "for i in range(2):\n",
        "  b = []\n",
        "  for p in range(200):\n",
        "    counter = 0\n",
        "    for i in range(100):\n",
        "      random_val = random.choice(range(200))\n",
        "      test_x, test_y = mass_pred_data_x_test[random_val].to(device), mass_pred_data_y_test[random_val].to(device)\n",
        "      # print(test_x)\n",
        "      with torch.no_grad():\n",
        "        pred = model(test_x)\n",
        "        a = 100*(abs(pred-test_y)/test_y)\n",
        "        # print(a)\n",
        "        if a>5:\n",
        "          counter +=1\n",
        "    b.append(100*counter/100)\n",
        "    # print(f\"Wrong: {b[p]}%\")\n",
        "  print(f\"Average error: {sum(b)/len(b)}%\")"
      ]
    },
    {
      "cell_type": "code",
      "execution_count": null,
      "metadata": {
        "colab": {
          "base_uri": "https://localhost:8080/"
        },
        "id": "k4XV9ZLJJ1Gx",
        "outputId": "bae3ad7e-7b53-4d00-96d3-7f49bae4c965",
        "collapsed": true
      },
      "outputs": [
        {
          "output_type": "stream",
          "name": "stdout",
          "text": [
            "Prediction: 3.15, Actual: 3.63\n",
            "Prediction: 4.02, Actual: 3.89\n",
            "Prediction: 5.3, Actual: 5.04\n",
            "Prediction: 4.75, Actual: 4.7\n",
            "Prediction: 3.37, Actual: 3.36\n"
          ]
        }
      ],
      "source": [
        "#INDEX CHECK\n",
        "for i in range(5):\n",
        "  m = random.choice(range(200))\n",
        "  test_x, test_y = mass_pred_data_x_test[m], mass_pred_data_y_test[m]\n",
        "  # print(test_x)\n",
        "\n",
        "  with torch.no_grad():\n",
        "    pred = model(test_x)\n",
        "    print(f\"Prediction: {round(pred.item(),2)}, Actual: {round(test_y.item(),2)}\")"
      ]
    }
  ],
  "metadata": {
    "colab": {
      "provenance": [],
      "authorship_tag": "ABX9TyPNm22FfLgHY4YzDwyskF3/",
      "include_colab_link": true
    },
    "kernelspec": {
      "display_name": "Python 3",
      "name": "python3"
    },
    "language_info": {
      "name": "python"
    }
  },
  "nbformat": 4,
  "nbformat_minor": 0
}